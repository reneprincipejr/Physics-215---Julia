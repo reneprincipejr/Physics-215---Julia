{
 "cells": [
  {
   "cell_type": "markdown",
   "metadata": {},
   "source": [
    "Julia is a Just In Time (JIT) compiled language, rather tan an interpeted one.\n",
    "Julia is dynamic, built on top of LLVM. Check http://llvm.com.\n"
   ]
  },
  {
   "cell_type": "markdown",
   "metadata": {},
   "source": [
    "Vectorization is natural in Julia, we can do away with the nester for loops."
   ]
  },
  {
   "cell_type": "markdown",
   "metadata": {},
   "source": [
    "Julia's concept of types is a key ingredient. It will compile two versions of the code, one for integer arguments and one for floating point arguments, and then insert the appropriate call in the code when it compiles the program."
   ]
  },
  {
   "cell_type": "markdown",
   "metadata": {},
   "source": [
    "Julia allows us to introspect native code."
   ]
  },
  {
   "cell_type": "markdown",
   "metadata": {},
   "source": [
    "The language is designed to make it easy to statically analyze its data types. You can usually write high-level code without fighting with the compiler about types, and still achieve superior performance."
   ]
  },
  {
   "cell_type": "markdown",
   "metadata": {},
   "source": [
    "### Personal Exercise: Plot Mandelbrot set, compare Python and Julia runtime"
   ]
  },
  {
   "cell_type": "code",
   "execution_count": 2,
   "metadata": {},
   "outputs": [
    {
     "name": "stdout",
     "output_type": "stream",
     "text": [
      "Variables\n",
      "  #self#\u001b[36m::Core.Const(^)\u001b[39m\n",
      "  x\u001b[36m::Int64\u001b[39m\n",
      "  p\u001b[36m::Int64\u001b[39m\n",
      "\n",
      "Body\u001b[36m::Int64\u001b[39m\n",
      "\u001b[90m1 ─\u001b[39m %1 = Base.power_by_squaring(x, p)\u001b[36m::Int64\u001b[39m\n",
      "\u001b[90m└──\u001b[39m      return %1\n"
     ]
    }
   ],
   "source": [
    "@code_warntype 3^2"
   ]
  },
  {
   "cell_type": "code",
   "execution_count": 10,
   "metadata": {},
   "outputs": [
    {
     "name": "stdout",
     "output_type": "stream",
     "text": [
      "Variables\n",
      "  #self#\u001b[36m::Core.Const(^)\u001b[39m\n",
      "  x\u001b[36m::Float64\u001b[39m\n",
      "  y\u001b[36m::Float64\u001b[39m\n",
      "  z\u001b[36m::Float64\u001b[39m\n",
      "\n",
      "Body\u001b[36m::Float64\u001b[39m\n",
      "\u001b[90m1 ─\u001b[39m       nothing\n",
      "\u001b[90m│  \u001b[39m %2  = Base.cconvert(Base.Math.Float64, x)\u001b[36m::Float64\u001b[39m\n",
      "\u001b[90m│  \u001b[39m %3  = Base.cconvert(Base.Math.Float64, y)\u001b[36m::Float64\u001b[39m\n",
      "\u001b[90m│  \u001b[39m %4  = Base.unsafe_convert(Base.Math.Float64, %2)\u001b[36m::Float64\u001b[39m\n",
      "\u001b[90m│  \u001b[39m %5  = Base.unsafe_convert(Base.Math.Float64, %3)\u001b[36m::Float64\u001b[39m\n",
      "\u001b[90m│  \u001b[39m       (z = $(Expr(:foreigncall, \"llvm.pow.f64\", Float64, svec(Float64, Float64), 0, :(:llvmcall), :(%4), :(%5), :(%3), :(%2))))\n",
      "\u001b[90m│  \u001b[39m %7  = Base.Math.isnan(z)\u001b[36m::Bool\u001b[39m\n",
      "\u001b[90m│  \u001b[39m %8  = (x + y)\u001b[36m::Float64\u001b[39m\n",
      "\u001b[90m│  \u001b[39m %9  = Base.Math.isnan(%8)\u001b[36m::Bool\u001b[39m\n",
      "\u001b[90m│  \u001b[39m %10 = !%9\u001b[36m::Bool\u001b[39m\n",
      "\u001b[90m│  \u001b[39m %11 = (%7 & %10)\u001b[36m::Bool\u001b[39m\n",
      "\u001b[90m└──\u001b[39m       goto #3 if not %11\n",
      "\u001b[90m2 ─\u001b[39m       Base.Math.throw_exp_domainerror(x)\n",
      "\u001b[90m3 ┄\u001b[39m       return z\n"
     ]
    },
    {
     "ename": "LoadError",
     "evalue": "LoadError: MethodError: no method matching var\"@time\"(::LineNumberNode, ::Module)\n\u001b[0mClosest candidates are:\n\u001b[0m  var\"@time\"(::LineNumberNode, ::Module, \u001b[91m::Any\u001b[39m) at timing.jl:204\nin expression starting at In[10]:2",
     "output_type": "error",
     "traceback": [
      "LoadError: MethodError: no method matching var\"@time\"(::LineNumberNode, ::Module)\n\u001b[0mClosest candidates are:\n\u001b[0m  var\"@time\"(::LineNumberNode, ::Module, \u001b[91m::Any\u001b[39m) at timing.jl:204\nin expression starting at In[10]:2",
      "",
      "Stacktrace:",
      " [1] eval",
      "   @ .\\boot.jl:360 [inlined]",
      " [2] include_string(mapexpr::typeof(REPL.softscope), mod::Module, code::String, filename::String)",
      "   @ Base .\\loading.jl:1116"
     ]
    }
   ],
   "source": [
    "@code_warntype 3.0^(2.0)"
   ]
  },
  {
   "cell_type": "code",
   "execution_count": 4,
   "metadata": {},
   "outputs": [
    {
     "data": {
      "text/plain": [
       "f (generic function with 1 method)"
      ]
     },
     "execution_count": 4,
     "metadata": {},
     "output_type": "execute_result"
    }
   ],
   "source": [
    "f(x) = log(10.0)*x"
   ]
  },
  {
   "cell_type": "code",
   "execution_count": 5,
   "metadata": {},
   "outputs": [
    {
     "ename": "LoadError",
     "evalue": "LoadError: UndefVarError: @code_llvn not defined\nin expression starting at In[5]:1",
     "output_type": "error",
     "traceback": [
      "LoadError: UndefVarError: @code_llvn not defined\nin expression starting at In[5]:1",
      "",
      "Stacktrace:",
      " [1] top-level scope",
      "   @ :0",
      " [2] eval",
      "   @ .\\boot.jl:360 [inlined]",
      " [3] include_string(mapexpr::typeof(REPL.softscope), mod::Module, code::String, filename::String)",
      "   @ Base .\\loading.jl:1116"
     ]
    }
   ],
   "source": [
    "@code_llvn f(4.0)"
   ]
  },
  {
   "cell_type": "code",
   "execution_count": 7,
   "metadata": {},
   "outputs": [
    {
     "data": {
      "text/plain": [
       "f (generic function with 1 method)"
      ]
     },
     "execution_count": 7,
     "metadata": {},
     "output_type": "execute_result"
    }
   ],
   "source": [
    "f(x) = x*log(x)"
   ]
  },
  {
   "cell_type": "code",
   "execution_count": 8,
   "metadata": {},
   "outputs": [
    {
     "name": "stdout",
     "output_type": "stream",
     "text": [
      "search: C\u001b[0m\u001b[1mw\u001b[22mc\u001b[0m\u001b[1mh\u001b[22m\u001b[0m\u001b[1ma\u001b[22mr_\u001b[0m\u001b[1mt\u001b[22m\n",
      "\n",
      "Couldn't find \u001b[36mwhat\u001b[39m\n",
      "Perhaps you meant wait, cat, hcat, stat, vcat, Char, which, where or while\n"
     ]
    },
    {
     "data": {
      "text/latex": [
       "No documentation found.\n",
       "\n",
       "Binding \\texttt{what} does not exist.\n",
       "\n"
      ],
      "text/markdown": [
       "No documentation found.\n",
       "\n",
       "Binding `what` does not exist.\n"
      ],
      "text/plain": [
       "  No documentation found.\n",
       "\n",
       "  Binding \u001b[36mwhat\u001b[39m does not exist."
      ]
     },
     "execution_count": 8,
     "metadata": {},
     "output_type": "execute_result"
    }
   ],
   "source": [
    "?what"
   ]
  },
  {
   "cell_type": "code",
   "execution_count": 11,
   "metadata": {},
   "outputs": [
    {
     "data": {
      "text/plain": [
       "10000000-element Vector{Float64}:\n",
       " 0.6522515732854011\n",
       " 0.851134188970629\n",
       " 0.029163888625201695\n",
       " 0.7361423780928966\n",
       " 0.7516624869248203\n",
       " 0.7542900399902854\n",
       " 0.15609290657368713\n",
       " 0.19039405233214057\n",
       " 0.7510607650907151\n",
       " 0.2551365400978949\n",
       " 0.014156844327223306\n",
       " 0.7389758124422134\n",
       " 0.23724527544087337\n",
       " ⋮\n",
       " 0.40572037161071983\n",
       " 0.7879829234378308\n",
       " 0.36776479141107754\n",
       " 0.6396421483201482\n",
       " 0.2516765537202057\n",
       " 0.9624630552249347\n",
       " 0.019219770315248574\n",
       " 0.6700076308927703\n",
       " 0.9397380797661834\n",
       " 0.9201727966080635\n",
       " 0.5678188441887406\n",
       " 0.9446559048803547"
      ]
     },
     "execution_count": 11,
     "metadata": {},
     "output_type": "execute_result"
    }
   ],
   "source": [
    "x = rand(10_000_000);"
   ]
  },
  {
   "cell_type": "code",
   "execution_count": 13,
   "metadata": {},
   "outputs": [
    {
     "name": "stdout",
     "output_type": "stream",
     "text": [
      "  0.039798 seconds (76.27 k allocations: 4.506 MiB, 75.72% compilation time)\n"
     ]
    },
    {
     "data": {
      "text/plain": [
       "5.000142740200723e6"
      ]
     },
     "execution_count": 13,
     "metadata": {},
     "output_type": "execute_result"
    }
   ],
   "source": [
    "@time sum(x)"
   ]
  },
  {
   "cell_type": "code",
   "execution_count": 14,
   "metadata": {},
   "outputs": [
    {
     "name": "stdout",
     "output_type": "stream",
     "text": [
      "  0.005367 seconds (1 allocation: 16 bytes)\n"
     ]
    },
    {
     "data": {
      "text/plain": [
       "5.000142740200723e6"
      ]
     },
     "execution_count": 14,
     "metadata": {},
     "output_type": "execute_result"
    }
   ],
   "source": [
    "@time sum(x)"
   ]
  },
  {
   "cell_type": "markdown",
   "metadata": {},
   "source": [
    "## Avoid global variables in Julia"
   ]
  },
  {
   "cell_type": "code",
   "execution_count": null,
   "metadata": {},
   "outputs": [],
   "source": []
  }
 ],
 "metadata": {
  "kernelspec": {
   "display_name": "Julia 1.6.2",
   "language": "julia",
   "name": "julia-1.6"
  },
  "language_info": {
   "file_extension": ".jl",
   "mimetype": "application/julia",
   "name": "julia",
   "version": "1.6.2"
  },
  "latex_envs": {
   "LaTeX_envs_menu_present": true,
   "autoclose": false,
   "autocomplete": true,
   "bibliofile": "biblio.bib",
   "cite_by": "apalike",
   "current_citInitial": 1,
   "eqLabelWithNumbers": true,
   "eqNumInitial": 1,
   "hotkeys": {
    "equation": "Ctrl-E",
    "itemize": "Ctrl-I"
   },
   "labels_anchors": false,
   "latex_user_defs": false,
   "report_style_numbering": false,
   "user_envs_cfg": false
  },
  "toc": {
   "base_numbering": 1,
   "nav_menu": {},
   "number_sections": true,
   "sideBar": true,
   "skip_h1_title": false,
   "title_cell": "Table of Contents",
   "title_sidebar": "Contents",
   "toc_cell": false,
   "toc_position": {},
   "toc_section_display": true,
   "toc_window_display": false
  },
  "varInspector": {
   "cols": {
    "lenName": 16,
    "lenType": 16,
    "lenVar": 40
   },
   "kernels_config": {
    "python": {
     "delete_cmd_postfix": "",
     "delete_cmd_prefix": "del ",
     "library": "var_list.py",
     "varRefreshCmd": "print(var_dic_list())"
    },
    "r": {
     "delete_cmd_postfix": ") ",
     "delete_cmd_prefix": "rm(",
     "library": "var_list.r",
     "varRefreshCmd": "cat(var_dic_list()) "
    }
   },
   "types_to_exclude": [
    "module",
    "function",
    "builtin_function_or_method",
    "instance",
    "_Feature"
   ],
   "window_display": false
  }
 },
 "nbformat": 4,
 "nbformat_minor": 2
}
