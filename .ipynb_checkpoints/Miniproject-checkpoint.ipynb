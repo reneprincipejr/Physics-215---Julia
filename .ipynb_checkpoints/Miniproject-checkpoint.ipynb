{
 "cells": [
  {
   "cell_type": "code",
   "execution_count": 1,
   "metadata": {
    "colab": {
     "base_uri": "https://localhost:8080/"
    },
    "executionInfo": {
     "elapsed": 14,
     "status": "ok",
     "timestamp": 1642736800707,
     "user": {
      "displayName": "Rene Jr Principe",
      "photoUrl": "https://lh3.googleusercontent.com/a-/AOh14GgedTvmu4ZyGYPY-wdieju_FqUx83EwnGFCdH-gJNg=s64",
      "userId": "06948979965863722362"
     },
     "user_tz": -480
    },
    "id": "Duof_6500bY9",
    "outputId": "7136a742-ec99-4e8d-b42a-555df3493753"
   },
   "outputs": [
    {
     "name": "stdout",
     "output_type": "stream",
     "text": [
      "/bin/bash: julia: command not found\n"
     ]
    }
   ],
   "source": [
    "!julia"
   ]
  },
  {
   "cell_type": "code",
   "execution_count": null,
   "metadata": {
    "colab": {
     "base_uri": "https://localhost:8080/",
     "height": 235
    },
    "executionInfo": {
     "elapsed": 9,
     "status": "error",
     "timestamp": 1640758611703,
     "user": {
      "displayName": "Rene Jr Principe",
      "photoUrl": "https://lh3.googleusercontent.com/a-/AOh14GgedTvmu4ZyGYPY-wdieju_FqUx83EwnGFCdH-gJNg=s64",
      "userId": "06948979965863722362"
     },
     "user_tz": -480
    },
    "id": "UQVFAFmHtHih",
    "outputId": "f5b82504-87d2-4cf0-9ad1-5228a3aa80f9"
   },
   "outputs": [
    {
     "ename": "TypeError",
     "evalue": "ignored",
     "output_type": "error",
     "traceback": [
      "\u001b[0;31m---------------------------------------------------------------------------\u001b[0m",
      "\u001b[0;31mTypeError\u001b[0m                                 Traceback (most recent call last)",
      "\u001b[0;32m<ipython-input-7-17e4b055d2d5>\u001b[0m in \u001b[0;36m<module>\u001b[0;34m()\u001b[0m\n\u001b[1;32m      1\u001b[0m \u001b[0mN\u001b[0m \u001b[0;34m=\u001b[0m \u001b[0;36m100\u001b[0m\u001b[0;34m\u001b[0m\u001b[0;34m\u001b[0m\u001b[0m\n\u001b[0;32m----> 2\u001b[0;31m \u001b[0mn\u001b[0m \u001b[0;34m=\u001b[0m \u001b[0mrange\u001b[0m\u001b[0;34m(\u001b[0m\u001b[0;36m0\u001b[0m\u001b[0;34m,\u001b[0m\u001b[0mstop\u001b[0m\u001b[0;34m=\u001b[0m\u001b[0mN\u001b[0m\u001b[0;34m)\u001b[0m\u001b[0;34m\u001b[0m\u001b[0;34m\u001b[0m\u001b[0m\n\u001b[0m\u001b[1;32m      3\u001b[0m \u001b[0mr\u001b[0m \u001b[0;34m=\u001b[0m \u001b[0;36m0.87\u001b[0m\u001b[0;34m\u001b[0m\u001b[0;34m\u001b[0m\u001b[0m\n\u001b[1;32m      4\u001b[0m \u001b[0mx_o\u001b[0m \u001b[0;34m=\u001b[0m \u001b[0;36m0.65\u001b[0m\u001b[0;34m\u001b[0m\u001b[0;34m\u001b[0m\u001b[0m\n\u001b[1;32m      5\u001b[0m \u001b[0mx_n\u001b[0m \u001b[0;34m=\u001b[0m \u001b[0;34m[\u001b[0m\u001b[0mx_o\u001b[0m\u001b[0;34m]\u001b[0m\u001b[0;34m\u001b[0m\u001b[0;34m\u001b[0m\u001b[0m\n",
      "\u001b[0;31mTypeError\u001b[0m: range() takes no keyword arguments"
     ]
    }
   ],
   "source": [
    "N = 100\n",
    "n = range(0,stop=N)\n",
    "r = 0.87\n",
    "x_o = 0.65\n",
    "x_n = [x_o]"
   ]
  },
  {
   "cell_type": "code",
   "execution_count": null,
   "metadata": {
    "id": "WqPPf_iL1WhP"
   },
   "outputs": [],
   "source": [
    "xx = 0.0:0.01"
   ]
  }
 ],
 "metadata": {
  "colab": {
   "authorship_tag": "ABX9TyM/dYLPcuSiYeW5qFMw0ShM",
   "name": "Miniproject",
   "provenance": []
  },
  "kernelspec": {
   "display_name": "Python 3 (ipykernel)",
   "language": "python",
   "name": "python3"
  },
  "language_info": {
   "codemirror_mode": {
    "name": "ipython",
    "version": 3
   },
   "file_extension": ".py",
   "mimetype": "text/x-python",
   "name": "python",
   "nbconvert_exporter": "python",
   "pygments_lexer": "ipython3",
   "version": "3.9.7"
  }
 },
 "nbformat": 4,
 "nbformat_minor": 1
}
